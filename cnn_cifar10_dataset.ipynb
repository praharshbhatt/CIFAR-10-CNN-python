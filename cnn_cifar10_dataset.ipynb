{
 "cells": [
  {
   "cell_type": "markdown",
   "metadata": {},
   "source": [
    "<h2 style='color:black' align='center'>Image Classification Using CNN for CIFAR-10 dataset</h2>\n",
    "\n",
    "\n",
    "<img src=\"cifar-10-db.jpg\"/>"
   ]
  },
  {
   "cell_type": "markdown",
   "metadata": {},
   "source": [
    "<h4 style=\"color:black\">Step 1: Import all needed libraries</h4>"
   ]
  },
  {
   "cell_type": "code",
   "execution_count": 21,
   "metadata": {},
   "outputs": [],
   "source": [
    "# Import tensorflow for model creation\n",
    "import tensorflow as tf\n",
    "from tensorflow.keras import datasets, layers, models\n",
    "from tensorflow.keras.optimizers import SGD\n",
    "from keras.preprocessing import image\n",
    "\n",
    "# Import matplotlib for graph plot\n",
    "import matplotlib.pyplot as plt\n",
    "\n",
    "# Import numpy for array manipulation\n",
    "import numpy as np"
   ]
  },
  {
   "cell_type": "markdown",
   "metadata": {},
   "source": [
    "<h4 style=\"color:black\">Step 2: Load the dataset</h4>"
   ]
  },
  {
   "cell_type": "code",
   "execution_count": 22,
   "metadata": {},
   "outputs": [
    {
     "data": {
      "text/plain": [
       "(50000, 32, 32, 3)"
      ]
     },
     "execution_count": 22,
     "metadata": {},
     "output_type": "execute_result"
    }
   ],
   "source": [
    "(X_train, y_train), (X_test,y_test) = datasets.cifar10.load_data()\n",
    "X_train.shape"
   ]
  },
  {
   "cell_type": "code",
   "execution_count": 23,
   "metadata": {},
   "outputs": [
    {
     "data": {
      "text/plain": [
       "(10000, 32, 32, 3)"
      ]
     },
     "execution_count": 23,
     "metadata": {},
     "output_type": "execute_result"
    }
   ],
   "source": [
    "X_test.shape"
   ]
  },
  {
   "cell_type": "code",
   "execution_count": 24,
   "metadata": {},
   "outputs": [
    {
     "data": {
      "text/plain": [
       "(50000, 1)"
      ]
     },
     "execution_count": 24,
     "metadata": {},
     "output_type": "execute_result"
    }
   ],
   "source": [
    "y_train.shape"
   ]
  },
  {
   "cell_type": "markdown",
   "metadata": {},
   "source": [
    "Cifar-10 has 50,000 labelled images of different objects with a resolution of 32 x 32.\n",
    "All of these images are colored"
   ]
  },
  {
   "cell_type": "code",
   "execution_count": 25,
   "metadata": {},
   "outputs": [
    {
     "data": {
      "text/plain": [
       "array([[6],\n",
       "       [9],\n",
       "       [9],\n",
       "       [4],\n",
       "       [1]], dtype=uint8)"
      ]
     },
     "execution_count": 25,
     "metadata": {},
     "output_type": "execute_result"
    }
   ],
   "source": [
    "# Check the labels\n",
    "y_train[:5]"
   ]
  },
  {
   "cell_type": "markdown",
   "metadata": {},
   "source": [
    "y_train is a label set of 2D array.\n",
    "However, for our classification, having a 1D array is good enough.\n",
    "so we will need to convert this to a 1D array"
   ]
  },
  {
   "cell_type": "code",
   "execution_count": 26,
   "metadata": {
    "scrolled": true
   },
   "outputs": [
    {
     "data": {
      "text/plain": [
       "(50000,)"
      ]
     },
     "execution_count": 26,
     "metadata": {},
     "output_type": "execute_result"
    }
   ],
   "source": [
    "y_train = y_train.reshape(-1,)\n",
    "y_train.shape"
   ]
  },
  {
   "cell_type": "markdown",
   "metadata": {},
   "source": [
    "Do the same for test dataset"
   ]
  },
  {
   "cell_type": "code",
   "execution_count": 27,
   "metadata": {},
   "outputs": [
    {
     "data": {
      "text/plain": [
       "(10000,)"
      ]
     },
     "execution_count": 27,
     "metadata": {},
     "output_type": "execute_result"
    }
   ],
   "source": [
    "y_test = y_test.reshape(-1,)\n",
    "y_test.shape"
   ]
  },
  {
   "cell_type": "code",
   "execution_count": 28,
   "metadata": {},
   "outputs": [],
   "source": [
    "# Create an array of names\n",
    "class_labels = [\"airplane\",\"automobile\",\"bird\",\"cat\",\"deer\",\"dog\",\"frog\",\"horse\",\"ship\",\"truck\"]"
   ]
  },
  {
   "cell_type": "markdown",
   "metadata": {},
   "source": [
    "Let's plot some images to see what they are "
   ]
  },
  {
   "cell_type": "code",
   "execution_count": 29,
   "metadata": {},
   "outputs": [],
   "source": [
    "# Plots the image with index\n",
    "def plot_image(image, label):\n",
    "    plt.figure(figsize = (7,1))\n",
    "    plt.imshow(image)\n",
    "    plt.xlabel(label)"
   ]
  },
  {
   "cell_type": "markdown",
   "metadata": {},
   "source": [
    "See the first Image of Training dataset"
   ]
  },
  {
   "cell_type": "code",
   "execution_count": 30,
   "metadata": {
    "scrolled": true
   },
   "outputs": [
    {
     "data": {
      "image/png": "[encoded data removed]",
      "text/plain": [
       "<Figure size 504x72 with 1 Axes>"
      ]
     },
     "metadata": {
      "needs_background": "light"
     },
     "output_type": "display_data"
    },
    {
     "data": {
      "image/png": "[encoded data removed]",
      "text/plain": [
       "<Figure size 504x72 with 1 Axes>"
      ]
     },
     "metadata": {
      "needs_background": "light"
     },
     "output_type": "display_data"
    },
    {
     "data": {
      "image/png": "[encoded data removed]",
      "text/plain": [
       "<Figure size 504x72 with 1 Axes>"
      ]
     },
     "metadata": {
      "needs_background": "light"
     },
     "output_type": "display_data"
    }
   ],
   "source": [
    "plot_image(X_train[0], class_labels[y_train[0]])\n",
    "plot_image(X_train[1], class_labels[y_train[1]])\n",
    "plot_image(X_train[2], class_labels[y_train[2]])"
   ]
  },
  {
   "cell_type": "markdown",
   "metadata": {},
   "source": [
    "<h4 style=\"color:black\">Step 3: Perform some pre processing</h4>"
   ]
  },
  {
   "cell_type": "code",
   "execution_count": 31,
   "metadata": {},
   "outputs": [],
   "source": [
    "# Convert from integers to floats\n",
    "X_train = X_train.astype('float32')\n",
    "X_test = X_test.astype('float32')\n",
    "\n",
    "# Normalize the training Data\n",
    "X_train = X_train / 255.0\n",
    "X_test = X_test / 255.0"
   ]
  },
  {
   "cell_type": "markdown",
   "metadata": {},
   "source": [
    "<h4 style=\"color:black\">Step 4: Build a convolutional neural network</h4>"
   ]
  },
  {
   "cell_type": "code",
   "execution_count": 32,
   "metadata": {},
   "outputs": [],
   "source": [
    "cnn = models.Sequential([\n",
    "    # Hidden layer 1\n",
    "    # CONV 1a\n",
    "    layers.Conv2D(filters=32, kernel_size=(3, 3), activation='relu', padding='same', kernel_initializer='he_uniform', input_shape=(32, 32, 3)),\n",
    "    \n",
    "    # CONV 1b\n",
    "    layers.Conv2D(filters=32, kernel_size=(3, 3), activation='relu', padding='same', kernel_initializer='he_uniform', input_shape=(32, 32, 3)),\n",
    "    \n",
    "    # Pool 1\n",
    "    layers.MaxPooling2D((2, 2)),\n",
    "    \n",
    "    # Hidden layer 2\n",
    "    # CONV 2a\n",
    "    layers.Conv2D(filters=64, kernel_size=(3, 3), activation='relu', padding='same', kernel_initializer='he_uniform', input_shape=(32, 32, 3)),\n",
    "    \n",
    "    # CONV 2b\n",
    "    layers.Conv2D(filters=64, kernel_size=(3, 3), activation='relu', padding='same', kernel_initializer='he_uniform', input_shape=(32, 32, 3)),\n",
    "    \n",
    "    # Pool 2\n",
    "    layers.MaxPooling2D((2, 2)),\n",
    "    \n",
    "    # Hidden layer 3\n",
    "    # CONV 3a\n",
    "    layers.Conv2D(filters=128, kernel_size=(3, 3), activation='relu', padding='same', kernel_initializer='he_uniform', input_shape=(32, 32, 3)),\n",
    "    \n",
    "    # CONV 3b\n",
    "    layers.Conv2D(filters=128, kernel_size=(3, 3), activation='relu', padding='same', kernel_initializer='he_uniform', input_shape=(32, 32, 3)),\n",
    "    \n",
    "    # Pool 3\n",
    "    layers.MaxPooling2D((2, 2)),\n",
    "    \n",
    "    # Fully connected layer\n",
    "    layers.Flatten(),\n",
    "    layers.Dense(128, activation='relu', kernel_initializer='he_uniform'),\n",
    "])"
   ]
  },
  {
   "cell_type": "markdown",
   "metadata": {},
   "source": [
    "<h4 style=\"color:black\">Step 5: Compile the model</h4>"
   ]
  },
  {
   "cell_type": "code",
   "execution_count": 33,
   "metadata": {},
   "outputs": [
    {
     "name": "stderr",
     "output_type": "stream",
     "text": [
      "/home/praharshb/.local/lib/python3.10/site-packages/keras/optimizer_v2/gradient_descent.py:102: UserWarning: The `lr` argument is deprecated, use `learning_rate` instead.\n",
      "  super(SGD, self).__init__(name, **kwargs)\n"
     ]
    }
   ],
   "source": [
    "cnn.compile(\n",
    "    optimizer=SGD(lr=0.001, momentum=0.9),\n",
    "    loss=\"sparse_categorical_crossentropy\",\n",
    "    metrics=[\"accuracy\"],\n",
    ")\n"
   ]
  },
  {
   "cell_type": "markdown",
   "metadata": {},
   "source": [
    "<h4 style=\"color:black\">Step 6: Fit the model</h4>"
   ]
  },
  {
   "cell_type": "code",
   "execution_count": 34,
   "metadata": {
    "scrolled": false
   },
   "outputs": [
    {
     "name": "stdout",
     "output_type": "stream",
     "text": [
      "Epoch 1/10\n",
      "1563/1563 [==============================] - 76s 48ms/step - loss: 3.8527 - accuracy: 0.1005\n",
      "Epoch 2/10\n",
      "1563/1563 [==============================] - 75s 48ms/step - loss: 3.8090 - accuracy: 0.1000\n",
      "Epoch 3/10\n",
      "1563/1563 [==============================] - 80s 51ms/step - loss: 3.8090 - accuracy: 0.1000\n",
      "Epoch 4/10\n",
      "1563/1563 [==============================] - 82s 52ms/step - loss: 3.8090 - accuracy: 0.1000\n",
      "Epoch 5/10\n",
      "1563/1563 [==============================] - 80s 51ms/step - loss: 3.8090 - accuracy: 0.1000\n",
      "Epoch 6/10\n",
      "1563/1563 [==============================] - 80s 51ms/step - loss: 3.8090 - accuracy: 0.1000\n",
      "Epoch 7/10\n",
      "1563/1563 [==============================] - 81s 52ms/step - loss: 3.8090 - accuracy: 0.1000\n",
      "Epoch 8/10\n",
      "1563/1563 [==============================] - 79s 51ms/step - loss: 3.8090 - accuracy: 0.1000\n",
      "Epoch 9/10\n",
      "1563/1563 [==============================] - 76s 49ms/step - loss: 3.8090 - accuracy: 0.1000\n",
      "Epoch 10/10\n",
      "1563/1563 [==============================] - 89s 57ms/step - loss: 3.8090 - accuracy: 0.1000\n"
     ]
    },
    {
     "data": {
      "text/plain": [
       "<keras.callbacks.History at 0x7ff913630a00>"
      ]
     },
     "execution_count": 34,
     "metadata": {},
     "output_type": "execute_result"
    }
   ],
   "source": [
    "cnn.fit(X_train, y_train, epochs=10, batch_size=32)"
   ]
  },
  {
   "cell_type": "markdown",
   "metadata": {},
   "source": [
    "<h4 style=\"color:black\">Step 7: Get the accuracy of the current model</h4>"
   ]
  },
  {
   "cell_type": "code",
   "execution_count": 35,
   "metadata": {
    "scrolled": true
   },
   "outputs": [
    {
     "name": "stdout",
     "output_type": "stream",
     "text": [
      "313/313 [==============================] - 3s 8ms/step - loss: 3.8091 - accuracy: 0.1000\n"
     ]
    },
    {
     "data": {
      "text/plain": [
       "[3.8090555667877197, 0.10000000149011612]"
      ]
     },
     "execution_count": 35,
     "metadata": {},
     "output_type": "execute_result"
    }
   ],
   "source": [
    "cnn.evaluate(X_test, y_test)"
   ]
  },
  {
   "cell_type": "markdown",
   "metadata": {},
   "source": [
    "<h4 style=\"color:black\">Step 8: Save the model</h4>"
   ]
  },
  {
   "cell_type": "code",
   "execution_count": 37,
   "metadata": {},
   "outputs": [],
   "source": [
    "# save model\n",
    "cnn.save('final_model.h5')\n",
    "# models.load_model('final_model.h5')"
   ]
  },
  {
   "cell_type": "markdown",
   "metadata": {},
   "source": [
    "<h4 style=\"color:black\">Step 9: Predict the sample image</h4>"
   ]
  },
  {
   "cell_type": "code",
   "execution_count": 38,
   "metadata": {},
   "outputs": [],
   "source": [
    "# Loads the image, ref: https://stackoverflow.com/a/47341572/6559381\n",
    "def load_image(img_path):\n",
    "\n",
    "    img = image.load_img(img_path, target_size=(32, 32))\n",
    "    img = image.img_to_array(img)\n",
    "    img = np.expand_dims(img, axis=0)\n",
    "    img = img.astype('float32')\n",
    "    img /= 255\n",
    "    img = img.reshape(1, 32, 32, 3)\n",
    "    return img"
   ]
  },
  {
   "cell_type": "code",
   "execution_count": 41,
   "metadata": {},
   "outputs": [
    {
     "data": {
      "image/png": "[encoded data removed]",
      "text/plain": [
       "<Figure size 504x72 with 1 Axes>"
      ]
     },
     "metadata": {
      "needs_background": "light"
     },
     "output_type": "display_data"
    }
   ],
   "source": [
    "# load the sample image\n",
    "img = load_image(\"sample.png\")\n",
    "\n",
    "# Predict the given image\n",
    "y_pred = cnn.predict(img)\n",
    "\n",
    "# The predicted object is an array of confidence scores of all the classes\n",
    "# So, getting the max value from the bunch\n",
    "y_pred_classes = np.argmax(y_pred)\n",
    "\n",
    "# Show the prediction\n",
    "class_labels[y_pred_classes]\n",
    "plot_image(img[0], class_labels[y_pred_classes])"
   ]
  },
  {
   "cell_type": "markdown",
   "metadata": {},
   "source": [
    "<h4 style=\"color:black\">References</h4>\n",
    "\n",
    "This code was inspired from Codebasic's work: https://github.com/codebasics/deep-learning-keras-tf-tutorial/blob/master/16_cnn_cifar10_small_image_classification/cnn_cifar10_dataset.ipynb\n",
    "More about CNN for CIFAR-10 https://machinelearningmastery.com/how-to-develop-a-cnn-from-scratch-for-cifar-10-photo-classification/"
   ]
  }
 ],
 "metadata": {
  "kernelspec": {
   "display_name": "Python 3",
   "language": "python",
   "name": "python3"
  },
  "language_info": {
   "codemirror_mode": {
    "name": "ipython",
    "version": 3
   },
   "file_extension": ".py",
   "mimetype": "text/x-python",
   "name": "python",
   "nbconvert_exporter": "python",
   "pygments_lexer": "ipython3",
   "version": "3.10.2"
  }
 },
 "nbformat": 4,
 "nbformat_minor": 4
}
